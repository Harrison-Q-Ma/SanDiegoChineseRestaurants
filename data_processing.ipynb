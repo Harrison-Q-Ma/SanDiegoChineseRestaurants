{
 "cells": [
  {
   "cell_type": "code",
   "execution_count": 27,
   "metadata": {},
   "outputs": [],
   "source": [
    "import selenium as sel # automation tool\n",
    "from selenium.webdriver.common.by import By\n",
    "import time \n",
    "from selenium import webdriver # automation tool\n",
    "from bs4 import BeautifulSoup # parsing tool\n",
    "import warnings\n",
    "warnings.simplefilter(action='ignore', category=FutureWarning)\n",
    "import pandas as pd # data analysis tool\n",
    "import numpy as np # numerical analysis tool\n",
    "import sklearn as sk # machine learning tool\n",
    "import nltk # natural language toolkit\n",
    "from webdriver_manager.chrome import ChromeDriverManager\n",
    "from selenium.webdriver.chrome.service import Service\n",
    "import requests\n",
    "import re\n"
   ]
  },
  {
   "cell_type": "code",
   "execution_count": 30,
   "metadata": {},
   "outputs": [
    {
     "name": "stdout",
     "output_type": "stream",
     "text": [
      "Green China Grill\n",
      "Sizzling Pot King\n"
     ]
    }
   ],
   "source": [
    "restaurant_list = ['Green China Grill', 'Sizzling Pot King'] # list of restaurant names\n",
    "df_comments = pd.DataFrame(columns=['restaurant', 'comment']) # create dataframe to store comments\n",
    "driver = webdriver.Safari()\n",
    "\n",
    "for resturant in restaurant_list:\n",
    "    print(resturant)\n",
    "    try:\n",
    "        driver.get('https://www.yelp.com/')\n",
    "        time.sleep(2)\n",
    "        elem = driver.find_element(By.XPATH, \"//input[contains(@id, 'search_description')]\")\n",
    "        elem.send_keys(resturant)\n",
    "        elem = driver.find_element(By.XPATH, \"//button[contains(@class, 'find-near-button')]\")\n",
    "        elem.click()\n",
    "        time.sleep(2)\n",
    "        original_window = driver.current_window_handle\n",
    "        elem = driver.find_elements(By.XPATH, '//div[contains(@class, \"businessName\")]')[1]\n",
    "        elem.click()\n",
    "        time.sleep(2)\n",
    "        for window_handle in driver.window_handles:\n",
    "            if window_handle != original_window:\n",
    "                driver.switch_to.window(window_handle)\n",
    "                break\n",
    "        while True: \n",
    "            url = driver.current_url\n",
    "            req = requests.get(url)\n",
    "            soup = BeautifulSoup(req.content, 'html.parser')\n",
    "            comments = soup.find_all('p', class_ = re.compile('comment.*'))\n",
    "            for comment in comments:\n",
    "                df_comments = df_comments.append({'restaurant': resturant, 'comment': comment.text}, ignore_index=True)\n",
    "            elem = driver.find_elements(By.XPATH, \"//a[contains(@class, 'next-link navigation-button')]\")[0]\n",
    "            elem.click() \n",
    "    except: \n",
    "        continue # no more pages"
   ]
  },
  {
   "cell_type": "code",
   "execution_count": 34,
   "metadata": {},
   "outputs": [],
   "source": [
    "df_comments.to_csv('comments.csv', index=False)"
   ]
  },
  {
   "cell_type": "code",
   "execution_count": null,
   "metadata": {},
   "outputs": [],
   "source": []
  }
 ],
 "metadata": {
  "kernelspec": {
   "display_name": "Python 3.10.4 64-bit",
   "language": "python",
   "name": "python3"
  },
  "language_info": {
   "codemirror_mode": {
    "name": "ipython",
    "version": 3
   },
   "file_extension": ".py",
   "mimetype": "text/x-python",
   "name": "python",
   "nbconvert_exporter": "python",
   "pygments_lexer": "ipython3",
   "version": "3.10.4"
  },
  "orig_nbformat": 4,
  "vscode": {
   "interpreter": {
    "hash": "aee8b7b246df8f9039afb4144a1f6fd8d2ca17a180786b69acc140d282b71a49"
   }
  }
 },
 "nbformat": 4,
 "nbformat_minor": 2
}
