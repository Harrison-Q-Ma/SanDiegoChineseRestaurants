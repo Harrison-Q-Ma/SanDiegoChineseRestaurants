{
 "cells": [
  {
   "cell_type": "code",
   "execution_count": 27,
   "metadata": {},
   "outputs": [],
   "source": [
    "import selenium as sel # automation tool\n",
    "from selenium.webdriver.common.by import By\n",
    "from selenium import webdriver # automation tool\n",
    "import time # doing timeouts\n",
    "from bs4 import BeautifulSoup # parsing tool\n",
    "import warnings # warning so my head don't explode\n",
    "warnings.simplefilter(action='ignore', category=FutureWarning)\n",
    "import pandas as pd # data analysis tool\n",
    "import numpy as np # numerical analysis tool\n",
    "import requests # web requests tool\n",
    "import re # regular expression tool"
   ]
  },
  {
   "cell_type": "code",
   "execution_count": 30,
   "metadata": {},
   "outputs": [
    {
     "name": "stdout",
     "output_type": "stream",
     "text": [
      "Green China Grill\n",
      "Sizzling Pot King\n"
     ]
    }
   ],
   "source": [
    "restaurant_list = ['Green China Grill', 'Sizzling Pot King'] # list of restaurant names\n",
    "df_comments = pd.DataFrame(columns=['restaurant', 'comment']) # create dataframe to store comments\n",
    "driver = webdriver.Safari() # create driver\n",
    "\n",
    "for resturant in restaurant_list:\n",
    "    print(resturant) \n",
    "    try:\n",
    "        driver.get('https://www.yelp.com/') # open yelp website\n",
    "        time.sleep(2) # wait 2 seconds to make sure page is loaded\n",
    "        elem = driver.find_element(By.XPATH, \"//input[contains(@id, 'search_description')]\") # find search bar\n",
    "        elem.send_keys(resturant) # search for restaurant\n",
    "        elem = driver.find_element(By.XPATH, \"//button[contains(@class, 'find-near-button')]\") # find search button\n",
    "        elem.click() # click search button\n",
    "        time.sleep(2) # wait 2 seconds to make sure page is loaded\n",
    "        original_window = driver.current_window_handle # save original window\n",
    "        elem = driver.find_elements(By.XPATH, '//div[contains(@class, \"businessName\")]')[1] # find restaurant with correct name\n",
    "        elem.click() # click restaurant\n",
    "        time.sleep(2) # wait 2 seconds to make sure page is loaded\n",
    "\n",
    "        # switch to new window\n",
    "        for window_handle in driver.window_handles:\n",
    "            if window_handle != original_window:\n",
    "                driver.switch_to.window(window_handle)\n",
    "                break\n",
    "\n",
    "        while True: \n",
    "            url = driver.current_url # get url \n",
    "            req = requests.get(url) # get html\n",
    "            soup = BeautifulSoup(req.content, 'html.parser') # parse html\n",
    "            comments = soup.find_all('p', class_ = re.compile('comment.*')) # find all comments\n",
    "\n",
    "            # store comments in dataframe\n",
    "            for comment in comments:\n",
    "                df_comments = df_comments.append({'restaurant': resturant, 'comment': comment.text}, ignore_index=True)\n",
    "                \n",
    "            elem = driver.find_elements(By.XPATH, \"//a[contains(@class, 'next-link navigation-button')]\")[0] # find next page button\n",
    "            elem.click() \n",
    "    except: \n",
    "        continue # no more pages"
   ]
  },
  {
   "cell_type": "code",
   "execution_count": 34,
   "metadata": {},
   "outputs": [],
   "source": [
    "df_comments.to_csv('comments.csv', index=False) # save dataframe to csv"
   ]
  },
  {
   "cell_type": "code",
   "execution_count": null,
   "metadata": {},
   "outputs": [],
   "source": []
  }
 ],
 "metadata": {
  "kernelspec": {
   "display_name": "Python 3.10.4 64-bit",
   "language": "python",
   "name": "python3"
  },
  "language_info": {
   "codemirror_mode": {
    "name": "ipython",
    "version": 3
   },
   "file_extension": ".py",
   "mimetype": "text/x-python",
   "name": "python",
   "nbconvert_exporter": "python",
   "pygments_lexer": "ipython3",
   "version": "3.10.4"
  },
  "orig_nbformat": 4,
  "vscode": {
   "interpreter": {
    "hash": "aee8b7b246df8f9039afb4144a1f6fd8d2ca17a180786b69acc140d282b71a49"
   }
  }
 },
 "nbformat": 4,
 "nbformat_minor": 2
}
